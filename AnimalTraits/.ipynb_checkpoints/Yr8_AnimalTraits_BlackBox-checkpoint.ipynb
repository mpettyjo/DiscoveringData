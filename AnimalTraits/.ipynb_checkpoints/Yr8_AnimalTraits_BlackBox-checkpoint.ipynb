{
 "cells": [
  {
   "attachments": {
    "3507c3df-730f-439d-b4cd-05b41d558c71.png": {
     "image/png": "[encoded data removed]"
    }
   },
   "cell_type": "markdown",
   "metadata": {
    "editable": true,
    "id": "lEpoOub01Ew4",
    "slideshow": {
     "slide_type": ""
    },
    "tags": []
   },
   "source": [
    "# 🐘🐘 Exploring Animal Traits with Data Science 🐘🐘\n",
    "\n",
    "Authors: James Cleaver, Lauren McKnight, Maria Pettyjohn\n",
    "\n",
    "> **Before you begin, click the ![Screen Shot 2025-07-14 at 3.43.13 PM.png](attachment:3507c3df-730f-439d-b4cd-05b41d558c71.png) button in the tool bar above. This will open a version of the activity without visible code!**\n",
    "\n",
    "In this activity you will\n",
    "- use data to identify patterns and relationships in data, and draw conclusions, and\n",
    "- explain how data is used by scientists to model and predict scientific phenomena.\n",
    "\n",
    "Throughout the activity you will see emojis, including\n",
    "- traffic lights 🚦, signalling you to stop and complete a task, and \n",
    "- ❗labelling important concepts.\n",
    "\n",
    "\n",
    "You will be exploring a database of terrestrial (land-dwelling) animals curated by scientists with data science. Let's get started!"
   ]
  },
  {
   "cell_type": "code",
   "execution_count": 15,
   "metadata": {
    "editable": true,
    "id": "jjNh47Az4rOi",
    "slideshow": {
     "slide_type": ""
    },
    "tags": []
   },
   "outputs": [],
   "source": [
    "'''\n",
    "This code is setting up a toolbox before starting the notebook.\n",
    "Each line brings in a different tool that helps with working with data, numbers, and\n",
    "creating visuals.\n",
    "\n",
    "Here's what each tool does:\n",
    "\n",
    "1. Pandas (pd) – This is like a super-powered spreadsheet.\n",
    "                 It helps organize and analyze data in tables, similar to Excel.\n",
    "\n",
    "2. NumPy (np) – This adds extra math abilities, especially for working with numbers\n",
    "                and calculations.\n",
    "\n",
    "3. SciPy Stats (stats) – This gives access to advanced statistics tools, useful for analyzing\n",
    "                         patterns and trends in data.\n",
    "\n",
    "4. Matplotlib (plt) – This is a basic drawing tool for making charts and graphs.\n",
    "\n",
    "5. ipywidgets (widgets) – This adds interactive elements, like sliders or buttons, to make data\n",
    "                          exploration more hands-on.\n",
    "\n",
    "6. IPython Display – This helps show things clearly in a notebook-style environment, like\n",
    "                     refreshing the screen or displaying results nicely.\n",
    "            \n",
    "'''\n",
    "\n",
    "import pandas as pd\n",
    "import numpy as np\n",
    "import scipy.stats as stats\n",
    "import matplotlib.pyplot as plt\n",
    "import ipywidgets as widgets\n",
    "from IPython.display import display, clear_output\n",
    "from ipywidgets import interact\n",
    "\n",
    "layout = widgets.Layout(width='auto') #set width"
   ]
  },
  {
   "cell_type": "code",
   "execution_count": 2,
   "metadata": {
    "colab": {
     "base_uri": "https://localhost:8080/",
     "height": 1000
    },
    "editable": true,
    "id": "kEMLNPm9-mOm",
    "outputId": "6863aa31-f97d-413d-d4bf-ee6fd2241206",
    "slideshow": {
     "slide_type": ""
    },
    "tags": []
   },
   "outputs": [],
   "source": [
    "'''\n",
    "Whether data is generated in your own lab, shared by a collaborator, or accessed from a public database,\n",
    "it needs to be brought into our notebook to be worked with. This is commonly done by loading a .csv file\n",
    "just like you would use for excel.\n",
    "\n",
    "For this activity, we work with a publically available data set of animal traits from https://animaltraits.org/. \n",
    "Once the file is opened, we read the file into a Pandas dataframe and take a look.\n",
    "\n",
    "Here's what each line of code does:\n",
    "1. Open the file\n",
    "    This line opens the downloaded file and reads it into a format that the computer\n",
    "    can work with. It uses the Pandas tool (from earlier) to turn the file into a table\n",
    "    of data.\n",
    "\n",
    "'''\n",
    "\n",
    "df = pd.read_csv('observations.csv')"
   ]
  },
  {
   "cell_type": "markdown",
   "metadata": {
    "id": "Di3pI7ynAmi4"
   },
   "source": [
    "## First Look at the Animal Traits Data Set \n",
    "\n",
    "First, let's take a look at the Animal Traits data set in the form of a table."
   ]
  },
  {
   "cell_type": "code",
   "execution_count": 3,
   "metadata": {
    "colab": {
     "base_uri": "https://localhost:8080/",
     "height": 547
    },
    "editable": true,
    "id": "u_D2v7ooAltW",
    "outputId": "32953c95-fa6a-42c1-b236-57bba2af428c",
    "slideshow": {
     "slide_type": ""
    },
    "tags": []
   },
   "outputs": [
    {
     "data": {
      "text/html": [
       "<div>\n",
       "<style scoped>\n",
       "    .dataframe tbody tr th:only-of-type {\n",
       "        vertical-align: middle;\n",
       "    }\n",
       "\n",
       "    .dataframe tbody tr th {\n",
       "        vertical-align: top;\n",
       "    }\n",
       "\n",
       "    .dataframe thead th {\n",
       "        text-align: right;\n",
       "    }\n",
       "</style>\n",
       "<table border=\"1\" class=\"dataframe\">\n",
       "  <thead>\n",
       "    <tr style=\"text-align: right;\">\n",
       "      <th></th>\n",
       "      <th>phylum</th>\n",
       "      <th>class</th>\n",
       "      <th>order</th>\n",
       "      <th>family</th>\n",
       "      <th>genus</th>\n",
       "      <th>species</th>\n",
       "      <th>body mass</th>\n",
       "      <th>metabolic rate</th>\n",
       "      <th>brain size</th>\n",
       "    </tr>\n",
       "  </thead>\n",
       "  <tbody>\n",
       "    <tr>\n",
       "      <th>0</th>\n",
       "      <td>Chordata</td>\n",
       "      <td>Amphibia</td>\n",
       "      <td>Anura</td>\n",
       "      <td>Hylidae</td>\n",
       "      <td>Hyla</td>\n",
       "      <td>Hyla versicolor</td>\n",
       "      <td>0.01315</td>\n",
       "      <td>NaN</td>\n",
       "      <td>0.000042</td>\n",
       "    </tr>\n",
       "    <tr>\n",
       "      <th>1</th>\n",
       "      <td>Chordata</td>\n",
       "      <td>Amphibia</td>\n",
       "      <td>Anura</td>\n",
       "      <td>Hylidae</td>\n",
       "      <td>Pseudacris</td>\n",
       "      <td>Pseudacris triseriata</td>\n",
       "      <td>0.00010</td>\n",
       "      <td>NaN</td>\n",
       "      <td>0.000002</td>\n",
       "    </tr>\n",
       "    <tr>\n",
       "      <th>2</th>\n",
       "      <td>Chordata</td>\n",
       "      <td>Amphibia</td>\n",
       "      <td>Anura</td>\n",
       "      <td>Hylidae</td>\n",
       "      <td>Acris</td>\n",
       "      <td>Acris crepitans</td>\n",
       "      <td>0.00030</td>\n",
       "      <td>NaN</td>\n",
       "      <td>0.000004</td>\n",
       "    </tr>\n",
       "    <tr>\n",
       "      <th>3</th>\n",
       "      <td>Chordata</td>\n",
       "      <td>Amphibia</td>\n",
       "      <td>Anura</td>\n",
       "      <td>Ceratobatrachidae</td>\n",
       "      <td>Platymantis</td>\n",
       "      <td>Platymantis vitiensis</td>\n",
       "      <td>0.00030</td>\n",
       "      <td>NaN</td>\n",
       "      <td>0.000005</td>\n",
       "    </tr>\n",
       "    <tr>\n",
       "      <th>4</th>\n",
       "      <td>Chordata</td>\n",
       "      <td>Amphibia</td>\n",
       "      <td>Anura</td>\n",
       "      <td>Ranidae</td>\n",
       "      <td>Rana</td>\n",
       "      <td>Rana sylvatica</td>\n",
       "      <td>0.00037</td>\n",
       "      <td>NaN</td>\n",
       "      <td>0.000009</td>\n",
       "    </tr>\n",
       "    <tr>\n",
       "      <th>...</th>\n",
       "      <td>...</td>\n",
       "      <td>...</td>\n",
       "      <td>...</td>\n",
       "      <td>...</td>\n",
       "      <td>...</td>\n",
       "      <td>...</td>\n",
       "      <td>...</td>\n",
       "      <td>...</td>\n",
       "      <td>...</td>\n",
       "    </tr>\n",
       "    <tr>\n",
       "      <th>3575</th>\n",
       "      <td>Chordata</td>\n",
       "      <td>Reptilia</td>\n",
       "      <td>Squamata</td>\n",
       "      <td>Sphaerodactylidae</td>\n",
       "      <td>Sphaerodactylus</td>\n",
       "      <td>Sphaerodactylus cinereus</td>\n",
       "      <td>0.00054</td>\n",
       "      <td>0.000252</td>\n",
       "      <td>NaN</td>\n",
       "    </tr>\n",
       "    <tr>\n",
       "      <th>3576</th>\n",
       "      <td>Chordata</td>\n",
       "      <td>Reptilia</td>\n",
       "      <td>Squamata</td>\n",
       "      <td>Sphaerodactylidae</td>\n",
       "      <td>Sphaerodactylus</td>\n",
       "      <td>Sphaerodactylus notatus</td>\n",
       "      <td>0.00033</td>\n",
       "      <td>0.000156</td>\n",
       "      <td>NaN</td>\n",
       "    </tr>\n",
       "    <tr>\n",
       "      <th>3577</th>\n",
       "      <td>Chordata</td>\n",
       "      <td>Reptilia</td>\n",
       "      <td>Squamata</td>\n",
       "      <td>Dactyloidae</td>\n",
       "      <td>Anolis</td>\n",
       "      <td>Anolis sagrei</td>\n",
       "      <td>0.00040</td>\n",
       "      <td>0.000391</td>\n",
       "      <td>NaN</td>\n",
       "    </tr>\n",
       "    <tr>\n",
       "      <th>3578</th>\n",
       "      <td>Chordata</td>\n",
       "      <td>Reptilia</td>\n",
       "      <td>Squamata</td>\n",
       "      <td>Eublepharidae</td>\n",
       "      <td>Coleonyx</td>\n",
       "      <td>Coleonyx switaki</td>\n",
       "      <td>0.00946</td>\n",
       "      <td>0.003889</td>\n",
       "      <td>NaN</td>\n",
       "    </tr>\n",
       "    <tr>\n",
       "      <th>3579</th>\n",
       "      <td>Chordata</td>\n",
       "      <td>Reptilia</td>\n",
       "      <td>Squamata</td>\n",
       "      <td>Eublepharidae</td>\n",
       "      <td>Coleonyx</td>\n",
       "      <td>Coleonyx variegatus</td>\n",
       "      <td>0.00362</td>\n",
       "      <td>0.002936</td>\n",
       "      <td>NaN</td>\n",
       "    </tr>\n",
       "  </tbody>\n",
       "</table>\n",
       "<p>3580 rows × 9 columns</p>\n",
       "</div>"
      ],
      "text/plain": [
       "        phylum     class     order             family            genus  \\\n",
       "0     Chordata  Amphibia     Anura            Hylidae             Hyla   \n",
       "1     Chordata  Amphibia     Anura            Hylidae       Pseudacris   \n",
       "2     Chordata  Amphibia     Anura            Hylidae            Acris   \n",
       "3     Chordata  Amphibia     Anura  Ceratobatrachidae      Platymantis   \n",
       "4     Chordata  Amphibia     Anura            Ranidae             Rana   \n",
       "...        ...       ...       ...                ...              ...   \n",
       "3575  Chordata  Reptilia  Squamata  Sphaerodactylidae  Sphaerodactylus   \n",
       "3576  Chordata  Reptilia  Squamata  Sphaerodactylidae  Sphaerodactylus   \n",
       "3577  Chordata  Reptilia  Squamata        Dactyloidae           Anolis   \n",
       "3578  Chordata  Reptilia  Squamata      Eublepharidae         Coleonyx   \n",
       "3579  Chordata  Reptilia  Squamata      Eublepharidae         Coleonyx   \n",
       "\n",
       "                       species  body mass  metabolic rate  brain size  \n",
       "0              Hyla versicolor    0.01315             NaN    0.000042  \n",
       "1        Pseudacris triseriata    0.00010             NaN    0.000002  \n",
       "2              Acris crepitans    0.00030             NaN    0.000004  \n",
       "3        Platymantis vitiensis    0.00030             NaN    0.000005  \n",
       "4               Rana sylvatica    0.00037             NaN    0.000009  \n",
       "...                        ...        ...             ...         ...  \n",
       "3575  Sphaerodactylus cinereus    0.00054        0.000252         NaN  \n",
       "3576   Sphaerodactylus notatus    0.00033        0.000156         NaN  \n",
       "3577             Anolis sagrei    0.00040        0.000391         NaN  \n",
       "3578          Coleonyx switaki    0.00946        0.003889         NaN  \n",
       "3579       Coleonyx variegatus    0.00362        0.002936         NaN  \n",
       "\n",
       "[3580 rows x 9 columns]"
      ]
     },
     "metadata": {},
     "output_type": "display_data"
    }
   ],
   "source": [
    "'''\n",
    "This code is setting up the data table to only include columns with data of interest for the rest of the notebook.\n",
    "\n",
    "Here's what each line of code does:\n",
    "1. Make a List of Column Names\n",
    "    The first line creates a list called columns_to_include. This list contains the names of the columns \n",
    "    (like categories or traits) that we want to work with from a bigger dataset called df.\n",
    "\n",
    "2. Pick Just Those Columns from the Dataset\n",
    "    The second line takes only the columns listed in columns_to_include from the original dataset df. It \n",
    "    makes a copy of that smaller piece and stores it in a new variable called traits_df.\n",
    "\n",
    "    Think of it like cutting out just the pages you need from a big book and making a photocopy of them.\n",
    "\n",
    "3. Show the New Table\n",
    "    The last line, display(traits_df), shows the new table (called a DataFrame) so you can see what it \n",
    "    looks like.\n",
    "'''\n",
    "\n",
    "\n",
    "# Listing the desired columns, including transformed versions\n",
    "columns_to_include = ['phylum', 'class', 'order', 'family', 'genus', 'species', 'body mass', 'metabolic rate', 'brain size']\n",
    "\n",
    "# Creating a copy of the subset with categorical columns\n",
    "traits_df = df[columns_to_include].copy()\n",
    "\n",
    "display(traits_df)"
   ]
  },
  {
   "cell_type": "markdown",
   "metadata": {
    "id": "9knEXXu1A-il"
   },
   "source": [
    "You can see that this table contains a nine unique columns, corresponding to nine unique variables of interest. These variables take the form of:\n",
    "\n",
    "- **Categorical Data**: Data in the form of alphanetical text labels, such as the **phylum**, **order**, or **family**.\n",
    "- **Numerical Data:** Data in the form of numbers, including decimal numbers.\n",
    "- **NaN:** \"Not a Number\" label that indicates that data is missing for that specific column and row of data.\n",
    "\n",
    "The first six columns are biological classifications of each animal, in order of **phylum**, **class**, **order**, **family**, **genus**, and **species**. The science of naming and classifying animals is called taxonomy. The data provided in the Animal Traits table are part of the Linnaean System of classification, which is the main system of classification in Western Science. There are other methods of classification, such as different systems by First Nations peoples.\n",
    "\n",
    "> 🚦 Copy and paste a species name into your favourite search engine. What animal is it? The latin names for animals are not always easy to guess the animal! For example, Macropus giganteus is a grey kangaroo."
   ]
  },
  {
   "cell_type": "code",
   "execution_count": 19,
   "metadata": {
    "code_folding": [],
    "editable": true,
    "slideshow": {
     "slide_type": ""
    },
    "tags": []
   },
   "outputs": [
    {
     "data": {
      "application/vnd.jupyter.widget-view+json": {
       "model_id": "9d9a3b0cc8f94822b0e5522847362555",
       "version_major": 2,
       "version_minor": 0
      },
      "text/plain": [
       "interactive(children=(Text(value='', description='Type species name from the Animal Traits Data table here.', …"
      ]
     },
     "metadata": {},
     "output_type": "display_data"
    },
    {
     "data": {
      "text/plain": [
       "<function __main__.search_widget(species_name, known_name)>"
      ]
     },
     "execution_count": 19,
     "metadata": {},
     "output_type": "execute_result"
    }
   ],
   "source": [
    "def search_widget(species_name, known_name):\n",
    "    print(f\"You searched for {species_name}. You know this species by the name {known_name}.\")\n",
    "\n",
    "\n",
    "species_widget = widgets.Text(\n",
    "    value=\"\",\n",
    "    description='Type species name from the Animal Traits Data table here.',\n",
    "    disabled=False,\n",
    "    align_items='stretch', \n",
    "    style= {'description_width': 'initial'},\n",
    "    layout = layout\n",
    ")\n",
    "\n",
    "known_widget = widgets.Text(\n",
    "    value=\"\",\n",
    "    description='Type the name you know the species by here.',\n",
    "    disabled=False,\n",
    "    align_items='stretch', \n",
    "    style= {'description_width': 'initial'},\n",
    "    layout = layout\n",
    ")\n",
    "\n",
    "interact(search_widget, species_name=species_widget, known_name=known_widget)\n"
   ]
  },
  {
   "cell_type": "markdown",
   "metadata": {
    "editable": true,
    "id": "AUBDim9WHQjk",
    "slideshow": {
     "slide_type": ""
    },
    "tags": []
   },
   "source": [
    "The last three columns of the table are physical measurements of each animal's body mass, metabolic rate, and brain size in units of kilograms, energy per kilogram, and kilograms, respectively."
   ]
  },
  {
   "cell_type": "markdown",
   "metadata": {
    "id": "XZwdseveTrLa"
   },
   "source": [
    "## Exploring the data visually - Single Variable\n",
    "\n",
    " Viewing the distributions of variables, and relationships between them, is best done visually. This is all part of \"Exploratory Data Analysis\".\n",
    "\n",
    "Exploratory Data Analysis is an step-by-step and interactive process, often requiring you to go back and forth, adjusting your approach as you learn more about your data. The goal is to become familiar with the data, prepare it for further analysis, and possibly generate hypotheses to test."
   ]
  },
  {
   "cell_type": "markdown",
   "metadata": {
    "id": "bj_uxjJE6eXv"
   },
   "source": [
    "Lets start by looking at the distribution of our most interesting variables."
   ]
  },
  {
   "cell_type": "code",
   "execution_count": 22,
   "metadata": {
    "colab": {
     "base_uri": "https://localhost:8080/",
     "height": 1000
    },
    "editable": true,
    "id": "Q_RL2UhQxjIs",
    "outputId": "5b99ab1b-66c0-4b98-896f-c84f81d4b992",
    "slideshow": {
     "slide_type": ""
    },
    "tags": []
   },
   "outputs": [
    {
     "data": {
      "application/vnd.jupyter.widget-view+json": {
       "model_id": "f4521b53921443dabcd685c6feb8d82f",
       "version_major": 2,
       "version_minor": 0
      },
      "text/plain": [
       "interactive(children=(Dropdown(description='Choose a variable to plot:', options=('body mass', 'brain size', '…"
      ]
     },
     "metadata": {},
     "output_type": "display_data"
    },
    {
     "data": {
      "text/plain": [
       "<function __main__.single_variable_plot_widget(variable_option, buckets_option)>"
      ]
     },
     "execution_count": 22,
     "metadata": {},
     "output_type": "execute_result"
    }
   ],
   "source": [
    "def single_variable_plot_widget(variable_option, buckets_option):\n",
    "    labels_list = {'body mass': 'Body Mass (kilograms)', \n",
    "              'brain size': 'Brain Size (kilograms)',\n",
    "              'metabolic rate': 'Metabolic Rate (energy/kilogram)'}\n",
    "    label = labels_list[variable_option]\n",
    "\n",
    "    plt.hist(df[variable_option], bins=int(buckets_option))\n",
    "    plt.xlabel(label)\n",
    "    plt.ylabel(\"Frequency\")\n",
    "    plt.title(f\"Distribution of {label}\")\n",
    "    plt.show()\n",
    "\n",
    "variable_widget = widgets.Dropdown(options=['body mass', 'brain size', 'metabolic rate'], \n",
    "                                   description='Choose a variable to plot:',\n",
    "                                   align_items='stretch', \n",
    "                                    style= {'description_width': 'initial'})\n",
    "\n",
    "buckets_widget = widgets.FloatText(value=20,\n",
    "                                description='Enter the number of buckets to divide your data into:',\n",
    "                                disabled=False,\n",
    "                                   align_items='stretch', \n",
    "                                    style= {'description_width': 'initial'},\n",
    "                                   layout = layout)\n",
    "\n",
    "widgets.interact(single_variable_plot_widget, variable_option=variable_widget, buckets_option=buckets_widget)"
   ]
  },
  {
   "cell_type": "markdown",
   "metadata": {},
   "source": [
    "> 🚦 How does your choice of number of buckets change the distribution of data?"
   ]
  },
  {
   "cell_type": "markdown",
   "metadata": {
    "id": "1SRorSHaS3y6"
   },
   "source": [
    "All the data are very squished to the left of the plot, indicating that data is very similar to eachother. For example, the brain size of most animals only fall in a small range of sizes.\n",
    "\n",
    "The distribution of biological data you see here is common in the scientific field of biology.\n",
    "\n",
    "> 🚦 Hypothesise why brain size data fall into a small range of possible brain sizes."
   ]
  },
  {
   "cell_type": "code",
   "execution_count": 23,
   "metadata": {
    "editable": true,
    "slideshow": {
     "slide_type": ""
    },
    "tags": []
   },
   "outputs": [
    {
     "data": {
      "application/vnd.jupyter.widget-view+json": {
       "model_id": "23229a16864749a8aaa99017374b2569",
       "version_major": 2,
       "version_minor": 0
      },
      "text/plain": [
       "interactive(children=(Text(value='', description='Type your hypothesis here (1-2 sentences):', layout=Layout(w…"
      ]
     },
     "metadata": {},
     "output_type": "display_data"
    },
    {
     "data": {
      "text/plain": [
       "<function __main__.brain_size_hypothesis(hypothesis)>"
      ]
     },
     "execution_count": 23,
     "metadata": {},
     "output_type": "execute_result"
    }
   ],
   "source": [
    "def brain_size_hypothesis(hypothesis):\n",
    "    print(hypothesis)\n",
    "\n",
    "\n",
    "hypo_widget = widgets.Text(\n",
    "    value=\"\",\n",
    "    description='Type your hypothesis here (1-2 sentences):',\n",
    "    disabled=False,\n",
    "    align_items='stretch', \n",
    "    style= {'description_width': 'initial'},\n",
    "    layout = layout\n",
    ")\n",
    "\n",
    "widgets.interact(brain_size_hypothesis,hypothesis=hypo_widget)"
   ]
  },
  {
   "cell_type": "markdown",
   "metadata": {},
   "source": [
    "Right now, the x-axis of the plot increases in equal increments of 50 from 0 to 200. When an axis of a graph has evenly spaced increments, we call this **linear scaling** in data science.\n",
    "\n",
    "As we hinted at before, biological data is often squished at the left-side of a plot that has **linear scaling**. For body mass, this means that there are lots of animal species with small mass bodies, some with medium mass bodies, and very few with large mass bodies.\n",
    "\n",
    "> 🚦 Does this make sense to you when you think of the animals on Earth?\n",
    "\n",
    "The **linear scaling** of the data makes it very difficult to compare the animal species with small mass bodies to the animals with large mass bodies. A way around this is to apply **logarithmic scaling** that makes it easier to compare things that are very different in size.\n",
    "\n",
    "**Logarithmic scaling** changes the increments from being equal increments to increments of 1, 10, 100, 1000, and so on. Therefore, the increments on the x-axis increase by 10-times each increment from left to right.\n",
    "\n",
    ">❗Usually, logarithmic increments are written as powers of 10 so that 10<sup>0</sup>=1, 10<sup>1</sup>=10, 10<sup>2</sup>=100, and so on, with decimal numbers taking the form of 10<sup>-1</sup>=0.1, 10<sup>-2</sup>=0.01, and so on. \n",
    "\n",
    "Lets see how that changes how your plot looks!"
   ]
  },
  {
   "cell_type": "code",
   "execution_count": 25,
   "metadata": {
    "colab": {
     "base_uri": "https://localhost:8080/",
     "height": 423
    },
    "editable": true,
    "id": "9JjtH_MtzuFj",
    "outputId": "fb94a15a-4ba9-431c-f2bc-caf69a2e4673",
    "scrolled": true,
    "slideshow": {
     "slide_type": ""
    },
    "tags": []
   },
   "outputs": [
    {
     "data": {
      "application/vnd.jupyter.widget-view+json": {
       "model_id": "d4034cbd07854cd2bf7489c5e7c93edb",
       "version_major": 2,
       "version_minor": 0
      },
      "text/plain": [
       "interactive(children=(Dropdown(description='Choose a variable to plot:', options=('body mass', 'brain size', '…"
      ]
     },
     "metadata": {},
     "output_type": "display_data"
    },
    {
     "data": {
      "text/plain": [
       "<function __main__.single_variable_plot_log_widget(variable_option, buckets_option, scaling_option)>"
      ]
     },
     "execution_count": 25,
     "metadata": {},
     "output_type": "execute_result"
    }
   ],
   "source": [
    "def single_variable_plot_log_widget(variable_option, buckets_option, scaling_option):\n",
    "    labels_list = {'body mass': 'Body Mass (kilograms)', \n",
    "              'brain size': 'Brain Size (kilograms)',\n",
    "              'metabolic rate': 'Metabolic Rate (energy/kilogram)'}\n",
    "    \n",
    "    label = labels_list[variable_option]\n",
    "    \n",
    "    if scaling_option == 'linear':\n",
    "        plt.hist(df[variable_option], bins=int(buckets_option))\n",
    "        plt.xlabel(label)\n",
    "        plt.ylabel(\"Frequency\")\n",
    "        plt.title(f\"Linear Distribution of {label}\")\n",
    "        plt.show()\n",
    "    elif scaling_option == 'logarithmic':\n",
    "        plt.hist(np.log10(df[variable_option]), bins=int(buckets_option))\n",
    "        plt.xlabel(label+' in $10^x$')\n",
    "        plt.ylabel(\"Frequency\")\n",
    "        plt.title(f\"Logarithmic Distribution of {label} in $10^x$\")\n",
    "        plt.show()\n",
    "\n",
    "variable_widget = widgets.Dropdown(options=['body mass', 'brain size', 'metabolic rate'], \n",
    "                                   description='Choose a variable to plot:',\n",
    "                                   align_items='stretch', \n",
    "                                    style= {'description_width': 'initial'})\n",
    "\n",
    "buckets_widget = widgets.FloatText(value=20,\n",
    "                                description='Enter the number of buckets to divide your data into:',\n",
    "                                disabled=False,\n",
    "                                   align_items='stretch', \n",
    "                                    style= {'description_width': 'initial'},\n",
    "                                  layout=layout)\n",
    "scaling_widget = widgets.Dropdown(options=['linear', 'logarithmic'], \n",
    "                                   description='Choose type of scaling:',\n",
    "                                   align_items='stretch', \n",
    "                                    style= {'description_width': 'initial'})\n",
    "\n",
    "widgets.interact(single_variable_plot_log_widget, variable_option=variable_widget, buckets_option=buckets_widget, scaling_option=scaling_widget)"
   ]
  },
  {
   "cell_type": "markdown",
   "metadata": {},
   "source": [
    "> 🚦 How has the distribution changed now that your have changed from linear scaling to logarithmic scaling? What patterns are you seeing?"
   ]
  },
  {
   "cell_type": "code",
   "execution_count": 26,
   "metadata": {
    "editable": true,
    "slideshow": {
     "slide_type": ""
    },
    "tags": []
   },
   "outputs": [
    {
     "data": {
      "application/vnd.jupyter.widget-view+json": {
       "model_id": "15e1010922b549679e1d50e5ba3b37ed",
       "version_major": 2,
       "version_minor": 0
      },
      "text/plain": [
       "interactive(children=(Text(value='', description='Type your observations here (1-2 sentences):', layout=Layout…"
      ]
     },
     "metadata": {},
     "output_type": "display_data"
    },
    {
     "data": {
      "text/plain": [
       "<function __main__.observations(obs)>"
      ]
     },
     "execution_count": 26,
     "metadata": {},
     "output_type": "execute_result"
    }
   ],
   "source": [
    "def observations(obs):\n",
    "    print(obs)\n",
    "\n",
    "\n",
    "obs_widget = widgets.Text(\n",
    "    value=\"\",\n",
    "    description='Type your observations here (1-2 sentences):',\n",
    "    disabled=False,\n",
    "    align_items='stretch', \n",
    "    style= {'description_width': 'initial'},\n",
    "    layout=layout\n",
    ")\n",
    "\n",
    "widgets.interact(observations,obs=obs_widget)"
   ]
  },
  {
   "cell_type": "markdown",
   "metadata": {
    "id": "_kWZ4L8gCPI3"
   },
   "source": [
    "## Exploring Patterns in the Data - Two Variable\n",
    "\n",
    "After single variable exploratory data analysis, two variable analysis is helpful for spotting relationships between variables!"
   ]
  },
  {
   "cell_type": "markdown",
   "metadata": {},
   "source": [
    "Explore how the body mass, brain size, and metabolic rate variables are related to eachother in the dataset. "
   ]
  },
  {
   "cell_type": "code",
   "execution_count": 27,
   "metadata": {
    "editable": true,
    "slideshow": {
     "slide_type": ""
    },
    "tags": []
   },
   "outputs": [
    {
     "data": {
      "application/vnd.jupyter.widget-view+json": {
       "model_id": "c7e37279f13a49a7bc9b80597d2c4708",
       "version_major": 2,
       "version_minor": 0
      },
      "text/plain": [
       "interactive(children=(Dropdown(description='Choose x-axis variable to plot:', options=('body mass', 'brain siz…"
      ]
     },
     "metadata": {},
     "output_type": "display_data"
    },
    {
     "data": {
      "text/plain": [
       "<function __main__.two_variable_plot_log_widget(variable_optionx, variable_optiony, scaling_option)>"
      ]
     },
     "execution_count": 27,
     "metadata": {},
     "output_type": "execute_result"
    }
   ],
   "source": [
    "def two_variable_plot_log_widget(variable_optionx, variable_optiony, scaling_option):\n",
    "    plt.figure(figsize=(8, 5))\n",
    "    labels_list = {'body mass': 'Body Mass (kilograms)', \n",
    "              'brain size': 'Brain Size (kilograms)',\n",
    "              'metabolic rate': 'Metabolic Rate (energy/kilogram)'}\n",
    "    \n",
    "    labelx = labels_list[variable_optionx]\n",
    "    labely = labels_list[variable_optiony]\n",
    "    \n",
    "    # Filter the DataFrame based on the selected variables\n",
    "    filtered_df = df.dropna(subset=[variable_optionx, variable_optiony])\n",
    "\n",
    "    # Ensure there are enough rows to plot\n",
    "    if filtered_df.empty:\n",
    "        print(\"No overlapping data available for the selected variables.\")\n",
    "    \n",
    "    if scaling_option == 'linear':\n",
    "        plt.plot(df[variable_optionx], df[variable_optiony], 'ko', markersize=5, alpha = 0.5)\n",
    "        plt.xlabel(labelx)\n",
    "        plt.ylabel(labely)\n",
    "        plt.title(f\"Two Variable Linear Distribution\")\n",
    "        plt.show()\n",
    "    elif scaling_option == 'logarithmic':\n",
    "        plt.plot(np.log10(df[variable_optionx]), np.log10(df[variable_optiony]), 'ko', markersize=5, alpha = 0.5)\n",
    "        plt.xlabel(labelx+' in $10^x$')\n",
    "        plt.ylabel(labely+' in $10^x$')\n",
    "        plt.title(f\"Two Variable Logarithmic Distribution in $10^x$\")\n",
    "        plt.show()\n",
    "\n",
    "variable_widgetx = widgets.Dropdown(options=['body mass', 'brain size', 'metabolic rate'], \n",
    "                                   description='Choose x-axis variable to plot:',\n",
    "                                   align_items='stretch', \n",
    "                                    style= {'description_width': 'initial'})\n",
    "\n",
    "variable_widgety = widgets.Dropdown(options=['body mass', 'brain size', 'metabolic rate'], \n",
    "                                   description='Choose y-axis variable to plot:',\n",
    "                                   align_items='stretch', \n",
    "                                    style= {'description_width': 'initial'})\n",
    "\n",
    "scaling_widget = widgets.Dropdown(options=['linear', 'logarithmic'], \n",
    "                                   description='Choose type of scaling:',\n",
    "                                   align_items='stretch', \n",
    "                                    style= {'description_width': 'initial'})\n",
    "\n",
    "widgets.interact(two_variable_plot_log_widget, variable_optionx=variable_widgetx, variable_optiony=variable_widgety, scaling_option=scaling_widget)"
   ]
  },
  {
   "cell_type": "markdown",
   "metadata": {
    "id": "5CA40Nd-Dfb0"
   },
   "source": [
    ">🚦Choose two variables for which you would like to explore their relationship."
   ]
  },
  {
   "cell_type": "code",
   "execution_count": 30,
   "metadata": {
    "editable": true,
    "slideshow": {
     "slide_type": ""
    },
    "tags": []
   },
   "outputs": [
    {
     "data": {
      "application/vnd.jupyter.widget-view+json": {
       "model_id": "c8099ce269e949e2a26db935d63463a0",
       "version_major": 2,
       "version_minor": 0
      },
      "text/plain": [
       "interactive(children=(Dropdown(description='Select your choice of x-variable here:', layout=Layout(width='auto…"
      ]
     },
     "metadata": {},
     "output_type": "display_data"
    },
    {
     "data": {
      "text/plain": [
       "<function __main__.choose_widget(x_variable, y_variable)>"
      ]
     },
     "execution_count": 30,
     "metadata": {},
     "output_type": "execute_result"
    }
   ],
   "source": [
    "def choose_widget(x_variable, y_variable):\n",
    "    print(f\"You choose to explore the relationship between {x_variable} and {y_variable}.\")\n",
    "\n",
    "\n",
    "\n",
    "x_widget = widgets.Dropdown(options=['body mass', 'brain size', 'metabolic rate'], \n",
    "                                   description='Select your choice of x-variable here:',\n",
    "                                   align_items='stretch', \n",
    "                                    style= {'description_width': 'initial'},\n",
    "                                   layout=layout)\n",
    "\n",
    "y_widget = widgets.Dropdown(options=['body mass', 'brain size', 'metabolic rate'], \n",
    "                                   description='Select your choice of y-variable here:',\n",
    "                                   align_items='stretch', \n",
    "                                    style= {'description_width': 'initial'},\n",
    "                           layout=layout)\n",
    "\n",
    "widgets.interact(choose_widget, x_variable=x_widget, y_variable=y_widget)"
   ]
  },
  {
   "cell_type": "markdown",
   "metadata": {},
   "source": [
    ">🚦What pattern are you observing between the two variables you chose?"
   ]
  },
  {
   "cell_type": "code",
   "execution_count": 32,
   "metadata": {
    "editable": true,
    "slideshow": {
     "slide_type": ""
    },
    "tags": []
   },
   "outputs": [
    {
     "data": {
      "application/vnd.jupyter.widget-view+json": {
       "model_id": "87854cb13c2840b188d0ededa8df306e",
       "version_major": 2,
       "version_minor": 0
      },
      "text/plain": [
       "interactive(children=(Text(value='', description='Describe the pattern you observe here (1-2 sentences):', lay…"
      ]
     },
     "metadata": {},
     "output_type": "display_data"
    },
    {
     "data": {
      "text/plain": [
       "<function __main__.observations(obs)>"
      ]
     },
     "execution_count": 32,
     "metadata": {},
     "output_type": "execute_result"
    }
   ],
   "source": [
    "def observations(obs):\n",
    "    print(obs)\n",
    "\n",
    "\n",
    "obs_widget = widgets.Text(\n",
    "    value=\"\",\n",
    "    description='Describe the pattern you observe here (1-2 sentences):',\n",
    "    disabled=False,\n",
    "    align_items='stretch', \n",
    "    style= {'description_width': 'initial'},\n",
    "    layout=layout\n",
    ")\n",
    "\n",
    "widgets.interact(observations,obs=obs_widget)"
   ]
  },
  {
   "cell_type": "markdown",
   "metadata": {},
   "source": [
    "## Making Predictions with Modelling\n",
    "\n",
    "You have observed patterns in the date by eye, so the next step is to test the patterns you observed using a model.\n",
    "\n",
    "> ❗Models are used by data scientists to test the relationships between variables of observed data. If the model fits the data well, it can be used to make predictions related to the relationship tested.\n",
    "\n",
    "For example, if we observed a linear relationship between two variables, say body mass and brain size, we can test that relationship with a **linear model**. A **linear model** is a straight line. \n",
    "\n",
    "If a **linear model** fits the body mass and brain size relationship well, you can use the model to predict the brain size of an animal given its body size using the model!\n",
    "\n",
    "> ❗The **independent variable** is on the x-axis and the **dependent variable** is on the y-axis. You can use a model to predict how the **dependent variable** responds to changes in the **independent variable**. \n",
    "\n",
    "\n",
    "Let's test the relationship of your two variables using a **linear model**!"
   ]
  },
  {
   "cell_type": "code",
   "execution_count": 39,
   "metadata": {
    "colab": {
     "base_uri": "https://localhost:8080/",
     "height": 629
    },
    "editable": true,
    "id": "InVhGU6mu_WE",
    "outputId": "807bb669-b3ce-4656-8849-651965357dda",
    "slideshow": {
     "slide_type": ""
    },
    "tags": []
   },
   "outputs": [
    {
     "data": {
      "application/vnd.jupyter.widget-view+json": {
       "model_id": "ed40ff22a89148fab52794a4884b0c93",
       "version_major": 2,
       "version_minor": 0
      },
      "text/plain": [
       "interactive(children=(Dropdown(description='Choose x-axis variable to plot:', options=('body mass', 'brain siz…"
      ]
     },
     "metadata": {},
     "output_type": "display_data"
    },
    {
     "data": {
      "text/plain": [
       "<function __main__.linear_model_widget(variable_optionx, variable_optiony, scaling_option, x_pred)>"
      ]
     },
     "execution_count": 39,
     "metadata": {},
     "output_type": "execute_result"
    }
   ],
   "source": [
    "def linear_model_widget(variable_optionx, variable_optiony, scaling_option,x_pred):\n",
    "    plt.figure(figsize=(8, 5))\n",
    "    labels_list = {'body mass': 'Body Mass (kilograms)', \n",
    "              'brain size': 'Brain Size (kilograms)',\n",
    "              'metabolic rate': 'Metabolic Rate (energy/kilogram)'}\n",
    "    \n",
    "    labelx = labels_list[variable_optionx]\n",
    "    labely = labels_list[variable_optiony]\n",
    "    \n",
    "    # Filter the DataFrame based on the selected variables\n",
    "    filtered_df = df.dropna(subset=[variable_optionx, variable_optiony])\n",
    "    \n",
    "    # Ensure the selected variables exist and have enough data points\n",
    "    if filtered_df.empty:\n",
    "        print(\"No data available for the selected variables.\")\n",
    "    elif filtered_df.shape[0] < 2:\n",
    "        print(\"Not enough data points to perform regression.\")\n",
    "    else:\n",
    "        if scaling_option == 'linear':\n",
    "            # Perform linear regression using scipy\n",
    "            slope, intercept, r_value, p_value, std_err = stats.linregress(\n",
    "                filtered_df[variable_optionx], filtered_df[variable_optiony]\n",
    "            )\n",
    "            x_linspace = np.linspace(min(filtered_df[variable_optionx]), max(filtered_df[variable_optionx]),100)\n",
    "            \n",
    "            plt.plot(df[variable_optionx], df[variable_optiony], 'ko', markersize=5, alpha = 0.5)\n",
    "            plt.plot(x_linspace, x_linspace*slope + intercept, 'r')\n",
    "            plt.xlabel(labelx)\n",
    "            plt.ylabel(labely)\n",
    "            plt.title(f\"Two Variable Linear Distribution\")\n",
    "            \n",
    "            print(f'For your chosen {labelx} a linear model predicts a {labely} of', x_pred*slope+intercept,\".\")\n",
    "            \n",
    "            plt.show()\n",
    "            \n",
    "        elif scaling_option == 'logarithmic':\n",
    "            # Perform linear regression using scipy\n",
    "            slope, intercept, r_value, p_value, std_err = stats.linregress(\n",
    "                np.log10(filtered_df[variable_optionx]), np.log10(filtered_df[variable_optiony])\n",
    "            )\n",
    "            x_linspace = np.linspace(min(np.log10(filtered_df[variable_optionx])), max(np.log10(filtered_df[variable_optionx])),100)\n",
    "            \n",
    "            plt.plot(np.log10(filtered_df[variable_optionx]), np.log10(filtered_df[variable_optiony]), 'ko', markersize=5, alpha = 0.5)\n",
    "            plt.plot(x_linspace, x_linspace*slope + intercept, 'r')\n",
    "            plt.xlabel(labelx+' in $10^x$')\n",
    "            plt.ylabel(labely+' in $10^x$')\n",
    "            plt.title(f\"Two Variable Logarithmic Distribution in $10^x$\")\n",
    "            \n",
    "            x_10pred = np.log10(x_pred)\n",
    "            print(f'For your chosen {labelx} a linear model predicts a {labely} of', 10**(x_10pred*slope+intercept),\".\")\n",
    "\n",
    "            plt.show()\n",
    "\n",
    "        # Show the plot\n",
    "        plt.show()\n",
    "        return \n",
    "\n",
    "variable_widgetx = widgets.Dropdown(options=['body mass', 'brain size', 'metabolic rate'], \n",
    "                                   description='Choose x-axis variable to plot:',\n",
    "                                    align_items='stretch', \n",
    "                                    style= {'description_width': 'initial'})\n",
    "\n",
    "variable_widgety = widgets.Dropdown(options=['body mass', 'brain size', 'metabolic rate'], \n",
    "                                   description='Choose y-axis variable to plot:',\n",
    "                                    align_items='stretch', \n",
    "                                    style= {'description_width': 'initial'})\n",
    "\n",
    "scaling_widget = widgets.Dropdown(options=['linear', 'logarithmic'], \n",
    "                                   description='Choose type of scaling:',\n",
    "                                   align_items='stretch', \n",
    "                                   style= {'description_width': 'initial'})\n",
    "\n",
    "prediction_widget = widgets.FloatText(\n",
    "    value=0,\n",
    "    description=f'Make a Prediction! Type a x-value here:',\n",
    "    disabled=False,\n",
    "    align_items='stretch', \n",
    "    style= {'description_width': 'initial'},\n",
    "    layout=layout\n",
    ")\n",
    "\n",
    "\n",
    "widgets.interact(linear_model_widget, variable_optionx=variable_widgetx, variable_optiony=variable_widgety, \n",
    "                 scaling_option=scaling_widget,x_pred=prediction_widget)\n"
   ]
  },
  {
   "cell_type": "markdown",
   "metadata": {},
   "source": [
    "> 🚦Does the linear model fit the relationship well? Check this by predicting a few values of your y-axis (dependent) variable given your x-axis (independent) variable."
   ]
  },
  {
   "cell_type": "code",
   "execution_count": 40,
   "metadata": {
    "editable": true,
    "slideshow": {
     "slide_type": ""
    },
    "tags": []
   },
   "outputs": [
    {
     "data": {
      "application/vnd.jupyter.widget-view+json": {
       "model_id": "06e99e33917d4e08a520214b5ae76e63",
       "version_major": 2,
       "version_minor": 0
      },
      "text/plain": [
       "interactive(children=(Text(value='', description='Type your observations here (1-2 sentences):', layout=Layout…"
      ]
     },
     "metadata": {},
     "output_type": "display_data"
    },
    {
     "data": {
      "text/plain": [
       "<function __main__.observations(obs)>"
      ]
     },
     "execution_count": 40,
     "metadata": {},
     "output_type": "execute_result"
    }
   ],
   "source": [
    "def observations(obs):\n",
    "    print(obs)\n",
    "\n",
    "\n",
    "obs_widget = widgets.Text(\n",
    "    value=\"\",\n",
    "    description='Type your observations here (1-2 sentences):',\n",
    "    disabled=False,\n",
    "    align_items='stretch', \n",
    "    style= {'description_width': 'initial'},\n",
    "    layout=layout\n",
    ")\n",
    "\n",
    "widgets.interact(observations,obs=obs_widget)"
   ]
  },
  {
   "cell_type": "markdown",
   "metadata": {},
   "source": [
    "### All Done!\n",
    "\n",
    "Congratulations, you just learned the fundamentals of data science, including exploratory data analysis and modelling.\n",
    "\n",
    "If you need to hand in this notebook, go to \n",
    "\n",
    "File --> Save and Export Notebook As --> PDF\n",
    "\n",
    "in the top-left corner of this page. "
   ]
  },
  {
   "cell_type": "code",
   "execution_count": null,
   "metadata": {},
   "outputs": [],
   "source": []
  }
 ],
 "metadata": {
  "celltoolbar": "Tags",
  "colab": {
   "provenance": []
  },
  "kernelspec": {
   "display_name": "Python 3 (ipykernel)",
   "language": "python",
   "name": "python3"
  },
  "language_info": {
   "codemirror_mode": {
    "name": "ipython",
    "version": 3
   },
   "file_extension": ".py",
   "mimetype": "text/x-python",
   "name": "python",
   "nbconvert_exporter": "python",
   "pygments_lexer": "ipython3",
   "version": "3.10.18"
  },
  "widgets": {
   "application/vnd.jupyter.widget-state+json": {
    "010ffe2ebd11485286d73573978f34b2": {
     "model_module": "@jupyter-widgets/controls",
     "model_module_version": "2.0.0",
     "model_name": "CheckboxStyleModel",
     "state": {
      "_model_module": "@jupyter-widgets/controls",
      "_model_module_version": "2.0.0",
      "_model_name": "CheckboxStyleModel",
      "_view_count": null,
      "_view_module": "@jupyter-widgets/base",
      "_view_module_version": "2.0.0",
      "_view_name": "StyleView",
      "background": null,
      "description_width": "initial"
     }
    },
    "2c3f7c854c434ce9a237b9f0db98bc74": {
     "model_module": "@jupyter-widgets/controls",
     "model_module_version": "2.0.0",
     "model_name": "TextStyleModel",
     "state": {
      "_model_module": "@jupyter-widgets/controls",
      "_model_module_version": "2.0.0",
      "_model_name": "TextStyleModel",
      "_view_count": null,
      "_view_module": "@jupyter-widgets/base",
      "_view_module_version": "2.0.0",
      "_view_name": "StyleView",
      "background": null,
      "description_width": "",
      "font_size": null,
      "text_color": null
     }
    },
    "30d2dd6467824715a6b59b57aab1bca7": {
     "model_module": "@jupyter-widgets/controls",
     "model_module_version": "2.0.0",
     "model_name": "TextareaModel",
     "state": {
      "_dom_classes": [],
      "_model_module": "@jupyter-widgets/controls",
      "_model_module_version": "2.0.0",
      "_model_name": "TextareaModel",
      "_view_count": null,
      "_view_module": "@jupyter-widgets/controls",
      "_view_module_version": "2.0.0",
      "_view_name": "TextareaView",
      "continuous_update": true,
      "description": "Type \\bf{species} name from the Animal Traits Data table here.",
      "description_allow_html": false,
      "disabled": false,
      "layout": "IPY_MODEL_d69277a6eb30452c9be7b7710bd23106",
      "placeholder": "​",
      "rows": null,
      "style": "IPY_MODEL_e97f7d00592d465fa4726aa7d4bff500",
      "tabbable": null,
      "tooltip": null,
      "value": "Macropus giganteus"
     }
    },
    "582b82509b0f497aa4a6c05dde722244": {
     "model_module": "@jupyter-widgets/base",
     "model_module_version": "2.0.0",
     "model_name": "LayoutModel",
     "state": {
      "_model_module": "@jupyter-widgets/base",
      "_model_module_version": "2.0.0",
      "_model_name": "LayoutModel",
      "_view_count": null,
      "_view_module": "@jupyter-widgets/base",
      "_view_module_version": "2.0.0",
      "_view_name": "LayoutView",
      "align_content": null,
      "align_items": null,
      "align_self": null,
      "border_bottom": null,
      "border_left": null,
      "border_right": null,
      "border_top": null,
      "bottom": null,
      "display": null,
      "flex": null,
      "flex_flow": null,
      "grid_area": null,
      "grid_auto_columns": null,
      "grid_auto_flow": null,
      "grid_auto_rows": null,
      "grid_column": null,
      "grid_gap": null,
      "grid_row": null,
      "grid_template_areas": null,
      "grid_template_columns": null,
      "grid_template_rows": null,
      "height": null,
      "justify_content": null,
      "justify_items": null,
      "left": null,
      "margin": null,
      "max_height": null,
      "max_width": null,
      "min_height": null,
      "min_width": null,
      "object_fit": null,
      "object_position": null,
      "order": null,
      "overflow": null,
      "padding": null,
      "right": null,
      "top": null,
      "visibility": null,
      "width": null
     }
    },
    "69272ba46e854ccda843f9a4e9f85324": {
     "model_module": "@jupyter-widgets/controls",
     "model_module_version": "2.0.0",
     "model_name": "TextareaModel",
     "state": {
      "_dom_classes": [],
      "_model_module": "@jupyter-widgets/controls",
      "_model_module_version": "2.0.0",
      "_model_name": "TextareaModel",
      "_view_count": null,
      "_view_module": "@jupyter-widgets/controls",
      "_view_module_version": "2.0.0",
      "_view_name": "TextareaView",
      "continuous_update": true,
      "description": "Type the name you know the species by here.",
      "description_allow_html": false,
      "disabled": false,
      "layout": "IPY_MODEL_ebc6eaebe44944119f31d33141efab12",
      "placeholder": "​",
      "rows": null,
      "style": "IPY_MODEL_2c3f7c854c434ce9a237b9f0db98bc74",
      "tabbable": null,
      "tooltip": null,
      "value": "grey kangaroo"
     }
    },
    "c80ad90e2a084fe8a8e3c8f7fdf10f9d": {
     "model_module": "@jupyter-widgets/controls",
     "model_module_version": "2.0.0",
     "model_name": "CheckboxModel",
     "state": {
      "_dom_classes": [],
      "_model_module": "@jupyter-widgets/controls",
      "_model_module_version": "2.0.0",
      "_model_name": "CheckboxModel",
      "_view_count": null,
      "_view_module": "@jupyter-widgets/controls",
      "_view_module_version": "2.0.0",
      "_view_name": "CheckboxView",
      "description": "Show code",
      "description_allow_html": false,
      "disabled": false,
      "indent": true,
      "layout": "IPY_MODEL_582b82509b0f497aa4a6c05dde722244",
      "style": "IPY_MODEL_010ffe2ebd11485286d73573978f34b2",
      "tabbable": null,
      "tooltip": null,
      "value": true
     }
    },
    "d69277a6eb30452c9be7b7710bd23106": {
     "model_module": "@jupyter-widgets/base",
     "model_module_version": "2.0.0",
     "model_name": "LayoutModel",
     "state": {
      "_model_module": "@jupyter-widgets/base",
      "_model_module_version": "2.0.0",
      "_model_name": "LayoutModel",
      "_view_count": null,
      "_view_module": "@jupyter-widgets/base",
      "_view_module_version": "2.0.0",
      "_view_name": "LayoutView",
      "align_content": null,
      "align_items": null,
      "align_self": null,
      "border_bottom": null,
      "border_left": null,
      "border_right": null,
      "border_top": null,
      "bottom": null,
      "display": null,
      "flex": null,
      "flex_flow": null,
      "grid_area": null,
      "grid_auto_columns": null,
      "grid_auto_flow": null,
      "grid_auto_rows": null,
      "grid_column": null,
      "grid_gap": null,
      "grid_row": null,
      "grid_template_areas": null,
      "grid_template_columns": null,
      "grid_template_rows": null,
      "height": null,
      "justify_content": null,
      "justify_items": null,
      "left": null,
      "margin": null,
      "max_height": null,
      "max_width": null,
      "min_height": null,
      "min_width": null,
      "object_fit": null,
      "object_position": null,
      "order": null,
      "overflow": null,
      "padding": null,
      "right": null,
      "top": null,
      "visibility": null,
      "width": null
     }
    },
    "e97f7d00592d465fa4726aa7d4bff500": {
     "model_module": "@jupyter-widgets/controls",
     "model_module_version": "2.0.0",
     "model_name": "TextStyleModel",
     "state": {
      "_model_module": "@jupyter-widgets/controls",
      "_model_module_version": "2.0.0",
      "_model_name": "TextStyleModel",
      "_view_count": null,
      "_view_module": "@jupyter-widgets/base",
      "_view_module_version": "2.0.0",
      "_view_name": "StyleView",
      "background": null,
      "description_width": "",
      "font_size": null,
      "text_color": null
     }
    },
    "ebc6eaebe44944119f31d33141efab12": {
     "model_module": "@jupyter-widgets/base",
     "model_module_version": "2.0.0",
     "model_name": "LayoutModel",
     "state": {
      "_model_module": "@jupyter-widgets/base",
      "_model_module_version": "2.0.0",
      "_model_name": "LayoutModel",
      "_view_count": null,
      "_view_module": "@jupyter-widgets/base",
      "_view_module_version": "2.0.0",
      "_view_name": "LayoutView",
      "align_content": null,
      "align_items": null,
      "align_self": null,
      "border_bottom": null,
      "border_left": null,
      "border_right": null,
      "border_top": null,
      "bottom": null,
      "display": null,
      "flex": null,
      "flex_flow": null,
      "grid_area": null,
      "grid_auto_columns": null,
      "grid_auto_flow": null,
      "grid_auto_rows": null,
      "grid_column": null,
      "grid_gap": null,
      "grid_row": null,
      "grid_template_areas": null,
      "grid_template_columns": null,
      "grid_template_rows": null,
      "height": null,
      "justify_content": null,
      "justify_items": null,
      "left": null,
      "margin": null,
      "max_height": null,
      "max_width": null,
      "min_height": null,
      "min_width": null,
      "object_fit": null,
      "object_position": null,
      "order": null,
      "overflow": null,
      "padding": null,
      "right": null,
      "top": null,
      "visibility": null,
      "width": null
     }
    }
   }
  }
 },
 "nbformat": 4,
 "nbformat_minor": 4
}
